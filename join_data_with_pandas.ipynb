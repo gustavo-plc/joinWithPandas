{
  "nbformat": 4,
  "nbformat_minor": 0,
  "metadata": {
    "colab": {
      "provenance": [],
      "mount_file_id": "1wDRSFrZa7Y-I2RBcqtZY6258OPkEPhtA",
      "authorship_tag": "ABX9TyPWMeeYqsjN/f7a5XPjvNQj"
    },
    "kernelspec": {
      "name": "python3",
      "display_name": "Python 3"
    },
    "language_info": {
      "name": "python"
    }
  },
  "cells": [
    {
      "cell_type": "code",
      "execution_count": 8,
      "metadata": {
        "id": "w-Lggkvhmch6",
        "colab": {
          "base_uri": "https://localhost:8080/"
        },
        "outputId": "5c279a4e-935e-4120-c1bf-5fd888c1153e"
      },
      "outputs": [
        {
          "output_type": "stream",
          "name": "stdout",
          "text": [
            "Index(['rid', 'vid', 'owner_x', 'address', 'zip', 'make', 'model', 'year',\n",
            "       'fuel_type', 'owner_y'],\n",
            "      dtype='object')\n",
            "Index(['rid', 'vid', 'owner_own', 'address', 'zip', 'make', 'model', 'year',\n",
            "       'fuel_type', 'owner_veh'],\n",
            "      dtype='object')\n",
            "fuel_type\n",
            "HYBRID                    2792\n",
            "GASOLINE                   611\n",
            "FLEX FUEL                   89\n",
            "COMPRESSED NATURAL GAS      27\n",
            "Name: count, dtype: int64\n"
          ]
        }
      ],
      "source": [
        "import pandas as pd\n",
        "\n",
        "# READING FILES\n",
        "\n",
        "path1 = '/content/drive/MyDrive/Colab Notebooks/Join Data with Pandas/Datasets/''taxi_owners.p'\n",
        "\n",
        "taxi_owners = pd.read_pickle(path1)\n",
        "\n",
        "path2 = '/content/drive/MyDrive/Colab Notebooks/Join Data with Pandas/Datasets/taxi_vehicles.p'\n",
        "\n",
        "taxi_veh = pd.read_pickle(path2)\n",
        "\n",
        "\n",
        "# INNER JOIN\n",
        "\n",
        "\n",
        "# Merge the taxi_owners and taxi_veh tables\n",
        "taxi_own_veh = taxi_owners.merge(taxi_veh, on = 'vid')\n",
        "\n",
        "# Print the column names of the taxi_own_veh\n",
        "print(taxi_own_veh.columns)\n",
        "\n",
        "# Merge the taxi_owners and taxi_veh tables setting a suffix\n",
        "taxi_own_veh = taxi_owners.merge(taxi_veh, on='vid', suffixes = ('_own', '_veh'))\n",
        "\n",
        "# Print the column names of taxi_own_veh\n",
        "print(taxi_own_veh.columns)\n",
        "\n",
        "# Print the value_counts to find the most popular fuel_type\n",
        "print(taxi_own_veh['fuel_type'].value_counts())\n",
        "\n",
        "\n",
        "# Inner joins and number of rows returned\n",
        "\n",
        "\n"
      ]
    },
    {
      "cell_type": "code",
      "source": [
        "import pandas as pd\n",
        "\n",
        "# READING FILES\n",
        "\n",
        "path3 = '/content/drive/MyDrive/Colab Notebooks/Join Data with Pandas/Datasets/ward.p'\n",
        "\n",
        "wards = pd.read_pickle(path3)\n",
        "\n",
        "path4 = '/content/drive/MyDrive/Colab Notebooks/Join Data with Pandas/Datasets/census.p'\n",
        "\n",
        "census = pd.read_pickle(path4)\n",
        "\n",
        "\n",
        "# Inner joins and number of rows returned: inner joins only return the rows with matching values in both tables.\n",
        "\n",
        "\n",
        "print(wards.head())\n",
        "print(census.head())\n",
        "\n",
        "# Merge the wards and census tables on the ward column\n",
        "wards_census = wards.merge(census, on = 'ward')\n",
        "\n",
        "# Print the shape of wards_census\n",
        "print('wards_census table shape:', wards_census.shape)\n",
        "print()\n",
        "#altering wards table\n",
        "wards_altered = wards\n",
        "wards_altered.loc[0, ['ward']] = 61\n",
        "\n",
        "# Print the first few rows of the wards_altered table to view the change\n",
        "print(wards_altered[['ward']].head())\n",
        "print()\n",
        "# Merge the wards_altered and census tables on the ward column\n",
        "wards_altered_census = wards_altered.merge(census, on = 'ward')\n",
        "\n",
        "# Print the shape of wards_altered_census\n",
        "print('wards_altered_census table shape:', wards_altered_census.shape)\n",
        "print()\n",
        "\n",
        "# it only printed 49 rows instead of 50 because there was no 50 matching values on both tables, since we altered the ward value to 61\n",
        "\n",
        "#altering census table\n",
        "\n",
        "census_altered = census\n",
        "census_altered.loc[0, ['ward']] = 'none'\n",
        "\n",
        "# Print the first few rows of the census_altered table to view the change\n",
        "print(census_altered[['ward']].head())\n",
        "\n",
        "# Merge the wards and census_altered tables on the ward column\n",
        "wards_census_altered = wards.merge(census_altered, on = 'ward')\n",
        "\n",
        "# Print the shape of wards_census_altered\n",
        "print('wards_census_altered table shape:', wards_census_altered.shape)\n",
        "\n",
        "# it only printed 49 rows instead of 50 because there was no 50 matching values on both tables, since we altered the ward value to 61\n",
        "\n",
        "# Attention: .merge() only returns rows where the values match in both tables.\n"
      ],
      "metadata": {
        "colab": {
          "base_uri": "https://localhost:8080/"
        },
        "id": "rHlarKapikip",
        "outputId": "2a17f43e-d77e-4355-c14b-faeb18b0133d"
      },
      "execution_count": 20,
      "outputs": [
        {
          "output_type": "stream",
          "name": "stdout",
          "text": [
            "  ward            alderman                          address    zip\n",
            "0    1  Proco \"Joe\" Moreno        2058 NORTH WESTERN AVENUE  60647\n",
            "1    2       Brian Hopkins       1400 NORTH  ASHLAND AVENUE  60622\n",
            "2    3          Pat Dowell          5046 SOUTH STATE STREET  60609\n",
            "3    4    William D. Burns  435 EAST 35TH STREET, 1ST FLOOR  60616\n",
            "4    5  Leslie A. Hairston            2325 EAST 71ST STREET  60649\n",
            "  ward  pop_2000  pop_2010 change                                  address  \\\n",
            "0    1     52951     56149     6%              2765 WEST SAINT MARY STREET   \n",
            "1    2     54361     55805     3%                 WM WASTE MANAGEMENT 1500   \n",
            "2    3     40385     53039    31%                      17 EAST 38TH STREET   \n",
            "3    4     51953     54589     5%  31ST ST HARBOR BUILDING LAKEFRONT TRAIL   \n",
            "4    5     55302     51455    -7%  JACKSON PARK LAGOON SOUTH CORNELL DRIVE   \n",
            "\n",
            "     zip  \n",
            "0  60647  \n",
            "1  60622  \n",
            "2  60653  \n",
            "3  60653  \n",
            "4  60637  \n",
            "wards_census table shape: (50, 9)\n",
            "\n",
            "  ward\n",
            "0   61\n",
            "1    2\n",
            "2    3\n",
            "3    4\n",
            "4    5\n",
            "\n",
            "wards_altered_census table shape: (49, 9)\n",
            "\n",
            "   ward\n",
            "0  none\n",
            "1     2\n",
            "2     3\n",
            "3     4\n",
            "4     5\n",
            "wards_census_altered table shape: (49, 9)\n"
          ]
        }
      ]
    },
    {
      "cell_type": "code",
      "source": [
        "# One-to-many relationships: when one row of Table A can relate to more than one rows of Table B.\n",
        "# Example: ward 1 can have more than one businesses related to it. It's a one to many relation.\n",
        "\n",
        "\n",
        "# ONE TO MANY MERGE\n",
        "\n",
        "import pandas as pd\n",
        "\n",
        "# READING FILES\n",
        "\n",
        "path5 = '/content/drive/MyDrive/Colab Notebooks/Join Data with Pandas/Datasets/licenses.p'\n",
        "\n",
        "licenses = pd.read_pickle(path5)\n",
        "\n",
        "path6 = '/content/drive/MyDrive/Colab Notebooks/Join Data with Pandas/Datasets/business_owners.p'\n",
        "\n",
        "biz_owners = pd.read_pickle(path6)\n"
      ],
      "metadata": {
        "id": "vdR_ttRXsD6b"
      },
      "execution_count": 21,
      "outputs": []
    }
  ]
}