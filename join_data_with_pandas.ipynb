{
  "nbformat": 4,
  "nbformat_minor": 0,
  "metadata": {
    "colab": {
      "provenance": [],
      "mount_file_id": "1wDRSFrZa7Y-I2RBcqtZY6258OPkEPhtA",
      "authorship_tag": "ABX9TyOm7ofo8/kEyDUDrkKkJj7Y",
      "include_colab_link": true
    },
    "kernelspec": {
      "name": "python3",
      "display_name": "Python 3"
    },
    "language_info": {
      "name": "python"
    }
  },
  "cells": [
    {
      "cell_type": "markdown",
      "metadata": {
        "id": "view-in-github",
        "colab_type": "text"
      },
      "source": [
        "<a href=\"https://colab.research.google.com/github/gustavo-plc/joinWithPandas/blob/main/join_data_with_pandas.ipynb\" target=\"_parent\"><img src=\"https://colab.research.google.com/assets/colab-badge.svg\" alt=\"Open In Colab\"/></a>"
      ]
    },
    {
      "cell_type": "code",
      "execution_count": 8,
      "metadata": {
        "id": "w-Lggkvhmch6",
        "colab": {
          "base_uri": "https://localhost:8080/"
        },
        "outputId": "5c279a4e-935e-4120-c1bf-5fd888c1153e"
      },
      "outputs": [
        {
          "output_type": "stream",
          "name": "stdout",
          "text": [
            "Index(['rid', 'vid', 'owner_x', 'address', 'zip', 'make', 'model', 'year',\n",
            "       'fuel_type', 'owner_y'],\n",
            "      dtype='object')\n",
            "Index(['rid', 'vid', 'owner_own', 'address', 'zip', 'make', 'model', 'year',\n",
            "       'fuel_type', 'owner_veh'],\n",
            "      dtype='object')\n",
            "fuel_type\n",
            "HYBRID                    2792\n",
            "GASOLINE                   611\n",
            "FLEX FUEL                   89\n",
            "COMPRESSED NATURAL GAS      27\n",
            "Name: count, dtype: int64\n"
          ]
        }
      ],
      "source": [
        "import pandas as pd\n",
        "\n",
        "# READING FILES\n",
        "\n",
        "path1 = '/content/drive/MyDrive/Colab Notebooks/Join Data with Pandas/Datasets/''taxi_owners.p'\n",
        "\n",
        "taxi_owners = pd.read_pickle(path1)\n",
        "\n",
        "path2 = '/content/drive/MyDrive/Colab Notebooks/Join Data with Pandas/Datasets/taxi_vehicles.p'\n",
        "\n",
        "taxi_veh = pd.read_pickle(path2)\n",
        "\n",
        "\n",
        "# INNER JOIN\n",
        "\n",
        "\n",
        "# Merge the taxi_owners and taxi_veh tables\n",
        "taxi_own_veh = taxi_owners.merge(taxi_veh, on = 'vid')\n",
        "\n",
        "# Print the column names of the taxi_own_veh\n",
        "print(taxi_own_veh.columns)\n",
        "\n",
        "# Merge the taxi_owners and taxi_veh tables setting a suffix\n",
        "taxi_own_veh = taxi_owners.merge(taxi_veh, on='vid', suffixes = ('_own', '_veh'))\n",
        "\n",
        "# Print the column names of taxi_own_veh\n",
        "print(taxi_own_veh.columns)\n",
        "\n",
        "# Print the value_counts to find the most popular fuel_type\n",
        "print(taxi_own_veh['fuel_type'].value_counts())\n",
        "\n",
        "\n",
        "# Inner joins and number of rows returned\n",
        "\n",
        "\n"
      ]
    }
  ]
}